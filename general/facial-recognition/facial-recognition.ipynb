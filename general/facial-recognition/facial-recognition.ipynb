{
 "cells": [
  {
   "cell_type": "markdown",
   "metadata": {},
   "source": [
    "# Facial Recognition"
   ]
  },
  {
   "cell_type": "code",
   "execution_count": 5,
   "metadata": {},
   "outputs": [],
   "source": [
    "import numpy as np\n",
    "from scipy import linalg as la\n",
    "from os import walk\n",
    "from matplotlib.pyplot import imread\n",
    "from matplotlib import pyplot as plt\n",
    "import matplotlib.cm as cm\n",
    "import random\n",
    "from random import sample"
   ]
  },
  {
   "cell_type": "code",
   "execution_count": 6,
   "metadata": {},
   "outputs": [],
   "source": [
    "%matplotlib inline"
   ]
  },
  {
   "cell_type": "markdown",
   "metadata": {},
   "source": [
    "## Helper Functions"
   ]
  },
  {
   "cell_type": "code",
   "execution_count": 7,
   "metadata": {},
   "outputs": [],
   "source": [
    "def getFaces(path='./faces94'):\n",
    "    \"\"\"Traverse the directory specified by 'path' and return an array containing\n",
    "    one column vector per subdirectory.\n",
    "    \"\"\"\n",
    "    # Traverse the directory and get one image per subdirectory\n",
    "    faces = []\n",
    "    for (dirpath, dirnames, filenames) in walk(path):\n",
    "        for f in filenames:\n",
    "            if f[-3:]==\"jpg\": # only get jpg images\n",
    "                # load image, convert to grayscale, flatten into vector\n",
    "                face = imread(dirpath+\"/\"+f).mean(axis=2).ravel()\n",
    "                faces.append(face)\n",
    "                break\n",
    "                \n",
    "    # put all the face vectors column-wise into a matrix\n",
    "    return np.array(faces).T\n",
    "\n",
    "\n",
    "def showFace(im, w=200, h=180):\n",
    "    \"\"\"Plot the flattened grayscale image 'im' of width 'w' and height 'h'.\"\"\"\n",
    "    plt.imshow(im.reshape((w,h)), cmap=cm.Greys_r)\n",
    "    plt.show()\n",
    "    \n",
    "\n",
    "def compareFaces(test_image, result, input_image=\"Inputed Image\", match=\"Closest match\", w=200, h=180):\n",
    "    \"\"\"Convenience function for plotting two flattened grayscale images of\n",
    "    the specified width and height side by side\n",
    "    \"\"\"\n",
    "    plt.subplot(121)\n",
    "    plt.title(input_image)\n",
    "    plt.imshow(test_image.reshape((w,h)), cmap=cm.Greys_r)\n",
    "    plt.axis(\"off\")\n",
    "    plt.subplot(122)\n",
    "    plt.title(match)\n",
    "    plt.imshow(result.reshape((w,h)), cmap=cm.Greys_r)\n",
    "    plt.axis(\"off\")\n",
    "    plt.show()"
   ]
  },
  {
   "cell_type": "markdown",
   "metadata": {},
   "source": [
    "## Our Code"
   ]
  },
  {
   "cell_type": "markdown",
   "metadata": {},
   "source": [
    "### Get \"Mean\" Face"
   ]
  },
  {
   "cell_type": "code",
   "execution_count": null,
   "metadata": {},
   "outputs": [],
   "source": [
    "def meanShift(face_matrix):\n",
    "    \"\"\"Takes in a nxm np.array comprised of flattened images along the columns and returns a nx1\n",
    "    vector of the average face.\n",
    "    \"\"\"\n",
    "    pass"
   ]
  },
  {
   "cell_type": "code",
   "execution_count": null,
   "metadata": {},
   "outputs": [],
   "source": [
    "face_matrix = getFaces()\n",
    "mu = meanShift(face_matrix)\n",
    "plt.title(\"The Average Face\", fontsize=20, y=1.1)\n",
    "plt.axis(\"off\")\n",
    "showFace(mu)"
   ]
  },
  {
   "cell_type": "markdown",
   "metadata": {},
   "source": [
    "### Normalize Around Mean"
   ]
  },
  {
   "cell_type": "code",
   "execution_count": null,
   "metadata": {},
   "outputs": [],
   "source": [
    "def faceDifferences(face_matrix, mu):\n",
    "    \"\"\"Return a new face_matrix with every face subtracted from the mean.\"\"\"\n",
    "    pass"
   ]
  },
  {
   "cell_type": "code",
   "execution_count": null,
   "metadata": {},
   "outputs": [],
   "source": [
    "Fbar = faceDifferences(face_matrix, mu)\n",
    "show2(face_matrix[:,28], Fbar[:,28], \"Original Image\", \"Mean-Shifted Image\")"
   ]
  },
  {
   "cell_type": "markdown",
   "metadata": {},
   "source": [
    "### Project to Subspace (fancy maths)"
   ]
  },
  {
   "cell_type": "code",
   "execution_count": null,
   "metadata": {},
   "outputs": [],
   "source": [
    "def getEigenFaces(Fbar):\n",
    "    \"\"\"Take the SVD of Fbar and return the U matrix\"\"\"\n",
    "    pass"
   ]
  },
  {
   "cell_type": "code",
   "execution_count": null,
   "metadata": {},
   "outputs": [],
   "source": [
    "U = eigenFaces(Fbar)\n",
    "compareFaces(face_matrix[:,28], U[:,28], \"Original Image\", \"EigenFace Image\")"
   ]
  },
  {
   "cell_type": "markdown",
   "metadata": {},
   "source": [
    "### Change Basis"
   ]
  },
  {
   "cell_type": "code",
   "execution_count": null,
   "metadata": {},
   "outputs": [],
   "source": [
    "def basisProject(A, U, s=38):\n",
    "    pass"
   ]
  },
  {
   "cell_type": "code",
   "execution_count": null,
   "metadata": {},
   "outputs": [],
   "source": [
    "# some code to show off basis project\n",
    "x = 1\n",
    "e_number = [5, 25, 50, 75, 200, 500]\n",
    "for s in e_number: \n",
    "    # Project face onto subspace spaned by s eigenvalues\n",
    "    face_in_eigen_basis = basisProject(face_matrix[:,2], U, s)\n",
    "    # Project face back to R_mn\n",
    "    face_projected_back = U[:,:s].dot(np.vstack(face_in_eigen_basis))\n",
    "    # Add the mean back\n",
    "    reconstructed_face = face_projected_back + np.vstack(mu)\n",
    "    plt.subplot(2,3,x)\n",
    "    plt.suptitle(\"Image Reconstruction With Different Eigen Vectors\",fontsize=20, y = 1.12)\n",
    "    plt.title(\"%s EigenFaces\" % s)\n",
    "    plt.axis(\"off\")\n",
    "    plt.imshow(reconstructed_face.reshape((200,180)), cmap=cm.Greys_r)\n",
    "    x += 1\n",
    "plt.show()"
   ]
  },
  {
   "cell_type": "markdown",
   "metadata": {},
   "source": [
    "### Recognize Face"
   ]
  },
  {
   "cell_type": "code",
   "execution_count": null,
   "metadata": {},
   "outputs": [],
   "source": []
  },
  {
   "cell_type": "markdown",
   "metadata": {},
   "source": []
  },
  {
   "cell_type": "code",
   "execution_count": 11,
   "metadata": {},
   "outputs": [],
   "source": [
    "def sampleFaces(n_tests, path=\"./faces94\"):\n",
    "    \"\"\"Return an array containing a sample of n_tests images contained\n",
    "    in the path as flattened images in the columns of the output\n",
    "    \"\"\"\n",
    "    files = []\n",
    "    for (dirpath, dirnames, filenames) in walk(path):\n",
    "        for f in filenames:\n",
    "            if f[-3:]==\"jpg\": # only get jpg images\n",
    "                files.append(dirpath+\"/\"+f)\n",
    "\n",
    "    #Get a sample of the images\n",
    "    test_files = random.sample(files, n_tests)\n",
    "    #Flatten and average the pixel values\n",
    "    images = np.array([imread(f).mean(axis=2).ravel() for f in test_files]).T\n",
    "    return images"
   ]
  },
  {
   "cell_type": "code",
   "execution_count": null,
   "metadata": {},
   "outputs": [],
   "source": [
    "recognizer = FacialRec(\"./faces94\")\n",
    "test_faces = sampleFaces(5)\n",
    "for x in xrange(5):\n",
    "    match_index = recognizer.findNearest(test_faces[:,x], 100)\n",
    "    show2(face_matrix[:,match_index], test_faces[:,x])\n"
   ]
  }
 ],
 "metadata": {
  "kernelspec": {
   "display_name": "Python 3",
   "language": "python",
   "name": "python3"
  },
  "language_info": {
   "codemirror_mode": {
    "name": "ipython",
    "version": 3
   },
   "file_extension": ".py",
   "mimetype": "text/x-python",
   "name": "python",
   "nbconvert_exporter": "python",
   "pygments_lexer": "ipython3",
   "version": "3.6.5"
  }
 },
 "nbformat": 4,
 "nbformat_minor": 2
}
